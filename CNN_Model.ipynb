{
  "nbformat": 4,
  "nbformat_minor": 0,
  "metadata": {
    "colab": {
      "name": "yaallah.ipynb",
      "provenance": [],
      "collapsed_sections": []
    },
    "kernelspec": {
      "name": "python3",
      "display_name": "Python 3"
    },
    "accelerator": "GPU"
  },
  "cells": [
    {
      "cell_type": "code",
      "metadata": {
        "id": "-2NeQVyBXfwA"
      },
      "source": [
        "from pydrive.auth import GoogleAuth\n",
        "from pydrive.drive import GoogleDrive\n",
        "from google.colab import auth\n",
        "from oauth2client.client import GoogleCredentials\n",
        "import cv2\n",
        "import os\n",
        "import matplotlib.pyplot as plt\n",
        "import numpy as np\n",
        "import time\n",
        "import shutil "
      ],
      "execution_count": 1,
      "outputs": []
    },
    {
      "cell_type": "code",
      "metadata": {
        "id": "TFBkwC5KXqm8"
      },
      "source": [
        "VIDEOS_PATH = \"/content/dataset/raw_videos\"\n",
        "IMAGES_PATH = \"/content/dataset/images\"\n",
        "IMAGE_DIMS = (500, 500)\n",
        "FRAME_SKIP = 1"
      ],
      "execution_count": 2,
      "outputs": []
    },
    {
      "cell_type": "code",
      "metadata": {
        "id": "3R44t6bMXshf"
      },
      "source": [
        "dataset = {\n",
        "    \"gate\":[\n",
        "            {\"id\":\"1ZgB6H3BvIpY2hGlxRZyNWqxNzqXEcaOd\", \"time\":[0, 16]},\n",
        "            {\"id\":\"1-PWKUPQN7fpccPvIP-qwHYOUG7rlIZcg\", \"time\":[9, 19]},\n",
        "            {\"id\":\"1EC5jTVkmp8F38CekmKGOI5cozlIanap2\", \"time\":[0, 12]}, \n",
        "            {\"id\":\"1DYceEMmv_SE-u9a2JeHDdBkE2dbLUykM\", \"time\":[0, 16]},\n",
        "            {\"id\":\"11i-PGRHadcdM_I_Ac4eY5s1squMjwcSW\", \"time\":[0, 17]},\n",
        "            {\"id\":\"1Pxg3wq_NI6kixxmiGrN3i8zYY6lSZtCT\", \"time\":[12, 22]},\n",
        "            {\"id\":\"1DFxOBErILaqwLnUWnp_LAA0w6nrCestE\", \"time\":[0, 13]},\n",
        "            {\"id\":\"1tkY7PNNUdDmEJEMwtBo1AEGre2ej7-eq\", \"time\":[4, 16]},\n",
        "            {\"id\":\"1H31XijetfseAYMLRcrgV9zHy97jN5pjJ\", \"time\":[6, None]},\n",
        "            {\"id\":\"1068GQ6TbXUbnnYdhEp93wEGV-gZND5Si\", \"time\":[0, 12]},\n",
        "            {\"id\":\"1cyaXGP8Y3ew_kWOAWqY1wqvnSL7LcV-V\", \"time\":[0, 9]},\n",
        "            {\"id\":\"18G8lNKye2jF4XA9Wp3ayulAWp9t42Lg-\", \"time\":[0, 4]},\n",
        "            {\"id\":\"1IPJXXQGx1qaLWm21DiQ0Ykf95GeKgLEK\", \"time\":[0, 13]},\n",
        "\n",
        "\n",
        "            {\"id\":\"1npIbYXxzQ4248YWSHbiZeHTiVGtj2-qG\", \"time\":[2, 12]},\n",
        "            {\"id\":\"1gWoRZb8TkpEi2Db9BlLYFHNQCXXQCObU\", \"time\":[30, 41]},\n",
        "            {\"id\":\"1y6JIdFgTv6gmXpr7wNgRq_B6CRmQZNFh\", \"time\":[0, 8]},\n",
        "            {\"id\":\"1HsKdqkTtDqr03BHxvhrMGYrfey29HJIT\", \"time\":[23, 36]},\n",
        "            {\"id\":\"1HsKdqkTtDqr03BHxvhrMGYrfey29HJIT\", \"time\":[39, 44]},\n",
        "            {\"id\":\"1HsKdqkTtDqr03BHxvhrMGYrfey29HJIT\", \"time\":[57, 60]},\n",
        "            {\"id\":\"1HsKdqkTtDqr03BHxvhrMGYrfey29HJIT\", \"time\":[73, 80]},\n",
        "            {\"id\":\"1HsKdqkTtDqr03BHxvhrMGYrfey29HJIT\", \"time\":[0, 12]},\n",
        "            \n",
        "            {\"id\":\"13BU46vHAALG3vchYreWsftnibYi22jyX\", \"time\":[5, 22]},\n",
        "            {\"id\":\"13BU46vHAALG3vchYreWsftnibYi22jyX\", \"time\":[31, 48]},\n",
        "            {\"id\":\"195IVlfMqHFBq9PLGVp9ULgtQSCHJZTV_\", \"time\":[8, 13]}\n",
        "            \n",
        "            ],\n",
        "\n",
        "       \n",
        "    \"non_gate\":[\n",
        "                \n",
        "                {\"id\":\"1DFxOBErILaqwLnUWnp_LAA0w6nrCestE\", \"time\":[14, None]},\n",
        "                {\"id\":\"1tkY7PNNUdDmEJEMwtBo1AEGre2ej7-eq\", \"time\":[22, None]},\n",
        "                # {\"id\":\"1oTNF3aS3Z_UbB6DDlwWButbILlARovl9\", \"time\":[0, None]},\n",
        "                {\"id\":\"1cyaXGP8Y3ew_kWOAWqY1wqvnSL7LcV-V\", \"time\":[13, None]},\n",
        "                {\"id\":\"1npIbYXxzQ4248YWSHbiZeHTiVGtj2-qG\", \"time\":[32, None]},\n",
        "                {\"id\":\"1y6JIdFgTv6gmXpr7wNgRq_B6CRmQZNFh\", \"time\":[20, None]},\n",
        "                {\"id\":\"18G8lNKye2jF4XA9Wp3ayulAWp9t42Lg-\", \"time\":[6, None]}   ]        \n",
        "}"
      ],
      "execution_count": 3,
      "outputs": []
    },
    {
      "cell_type": "code",
      "metadata": {
        "id": "9TJcuQZPXu8B"
      },
      "source": [
        "# Authenticate and create the PyDrive client.\n",
        "auth.authenticate_user()\n",
        "gauth = GoogleAuth()\n",
        "gauth.credentials = GoogleCredentials.get_application_default()\n",
        "drive = GoogleDrive(gauth)"
      ],
      "execution_count": 4,
      "outputs": []
    },
    {
      "cell_type": "code",
      "metadata": {
        "id": "G-8oEFyOX-Ar"
      },
      "source": [
        "# Create dataset directories\n",
        "os.makedirs(VIDEOS_PATH, exist_ok=True)\n",
        "os.makedirs(IMAGES_PATH, exist_ok=True)\n",
        "\n",
        "os.makedirs(\"/content/train/gate\", exist_ok=True)\n",
        "os.makedirs(\"/content/train/non\", exist_ok=True)\n",
        "\n",
        "\n",
        "os.makedirs(\"/content/test/gate\", exist_ok=True)\n",
        "os.makedirs(\"/content/test/non\", exist_ok=True)\n",
        "\n",
        "\n",
        "os.makedirs(\"/content/validation/gate\", exist_ok=True)\n",
        "os.makedirs(\"/content/validation/non\", exist_ok=True)"
      ],
      "execution_count": 5,
      "outputs": []
    },
    {
      "cell_type": "code",
      "metadata": {
        "id": "SLmZ1YyYYOTz",
        "outputId": "e2b30f3c-5cd2-4c72-d087-805ba5af9d9e",
        "colab": {
          "base_uri": "https://localhost:8080/",
          "height": 561
        }
      },
      "source": [
        "# Loop over classes\n",
        "for current_class, videos in dataset.items():\n",
        "  print(\"Processing {} class.\".format(current_class))\n",
        "  img_idx = 0\n",
        "  # Create a directory for the class in videos and images path\n",
        "  os.makedirs(os.path.join(VIDEOS_PATH, current_class), exist_ok=True)\n",
        "  os.makedirs(os.path.join(IMAGES_PATH, current_class), exist_ok=True)\n",
        "  os.chdir(os.path.join(VIDEOS_PATH, current_class))\n",
        "  # Loop over videos in each class\n",
        "  for index, video in enumerate(videos):\n",
        "    # Download the video\n",
        "    downloaded = drive.CreateFile({'id':video[\"id\"]})\n",
        "    video_name = str(index) + \".mp4\"\n",
        "    print(\"Processing {}\".format(video_name))\n",
        "    downloaded.GetContentFile(video_name)\n",
        "    # Open the video\n",
        "    cap = cv2.VideoCapture(video_name)\n",
        "    # Get the frame rate\n",
        "    fps = cap.get(cv2.CAP_PROP_FPS)\n",
        "    # Get start frame\n",
        "    cap.set(cv2.CAP_PROP_POS_FRAMES, round(fps * video[\"time\"][0]))\n",
        "    # Get end frame\n",
        "    if video[\"time\"][1] == None:\n",
        "      end_frame = cap.get(cv2.CAP_PROP_FRAME_COUNT)\n",
        "    else:\n",
        "      end_frame = round(fps * video[\"time\"][1])\n",
        "\n",
        "    frame_idx = 0\n",
        "\n",
        "    while cap.isOpened() and cap.get(cv2.CAP_PROP_POS_FRAMES) < end_frame:\n",
        "      # Read frame\n",
        "      ret, frame = cap.read()\n",
        "      if not ret:\n",
        "        break\n",
        "\n",
        "      if frame_idx % FRAME_SKIP == 0:\n",
        "        # Save image\n",
        "        cv2.imwrite(os.path.join(IMAGES_PATH, current_class, str(img_idx) + \".jpg\"), frame)\n",
        "        img_idx += 1\n",
        "\n",
        "      frame_idx += 1\n",
        "\n",
        "    cap.release()\n",
        "\n",
        "  os.chdir(\"/content\")"
      ],
      "execution_count": 6,
      "outputs": [
        {
          "output_type": "stream",
          "text": [
            "Processing gate class.\n",
            "Processing 0.mp4\n",
            "Processing 1.mp4\n",
            "Processing 2.mp4\n",
            "Processing 3.mp4\n",
            "Processing 4.mp4\n",
            "Processing 5.mp4\n",
            "Processing 6.mp4\n",
            "Processing 7.mp4\n",
            "Processing 8.mp4\n",
            "Processing 9.mp4\n",
            "Processing 10.mp4\n",
            "Processing 11.mp4\n",
            "Processing 12.mp4\n",
            "Processing 13.mp4\n",
            "Processing 14.mp4\n",
            "Processing 15.mp4\n",
            "Processing 16.mp4\n",
            "Processing 17.mp4\n",
            "Processing 18.mp4\n",
            "Processing 19.mp4\n",
            "Processing 20.mp4\n",
            "Processing 21.mp4\n",
            "Processing 22.mp4\n",
            "Processing 23.mp4\n",
            "Processing non_gate class.\n",
            "Processing 0.mp4\n",
            "Processing 1.mp4\n",
            "Processing 2.mp4\n",
            "Processing 3.mp4\n",
            "Processing 4.mp4\n",
            "Processing 5.mp4\n"
          ],
          "name": "stdout"
        }
      ]
    },
    {
      "cell_type": "code",
      "metadata": {
        "id": "mUKxCE3BYSSt",
        "outputId": "3737cfa6-6f5c-4524-d5cf-d788b426e935",
        "colab": {
          "base_uri": "https://localhost:8080/",
          "height": 51
        }
      },
      "source": [
        "print('number of gate - ',len(os.listdir(\"/content/dataset/images/gate\"))) #printing the number of cat training images\n",
        "print('number of non  - ',len(os.listdir(\"/content/dataset/images/non_gate\"))) #printing the number of dog training images\n"
      ],
      "execution_count": 7,
      "outputs": [
        {
          "output_type": "stream",
          "text": [
            "number of gate -  3846\n",
            "number of non  -  4630\n"
          ],
          "name": "stdout"
        }
      ]
    },
    {
      "cell_type": "markdown",
      "metadata": {
        "id": "U60IElz_Ya_C"
      },
      "source": [
        " **Data_spliting**"
      ]
    },
    {
      "cell_type": "code",
      "metadata": {
        "id": "6MZARiQAYYjb"
      },
      "source": [
        "gate_dir = \"/content/dataset/images/gate\" #storing the cats training images\n",
        "non_dir =\"/content/dataset/images/non_gate\" #storing the cats training images\n",
        "\n",
        "gate=os.listdir(gate_dir)\n",
        "non=os.listdir(non_dir)\n",
        "\n",
        "train_gate = gate[:int(0.8*len(gate))]\n",
        "train_non = non[:int(0.8*len(non))]\n",
        "\n",
        "valid_gate = gate [int(0.8*len(gate)):int(0.986*len(gate))]\n",
        "valid_non= non [int(0.8*len(non)) : int(0.986*len(non))]\n",
        "\n",
        "test_gate = gate[int(0.986*len(gate)) :int(len(gate))]\n",
        "test_non = non[int(0.986*len(non)) :int(len(non))]\n"
      ],
      "execution_count": 8,
      "outputs": []
    },
    {
      "cell_type": "code",
      "metadata": {
        "id": "fQ6VYxlEcPkh",
        "outputId": "6da3fd43-f34a-43f4-f461-bc4593183257",
        "colab": {
          "base_uri": "https://localhost:8080/",
          "height": 119
        }
      },
      "source": [
        "print('number of train gate - ',len(train_gate))\n",
        "print('number of test gate - ',len(test_gate)) \n",
        "print('number of valid gate - ',len(valid_gate)) \n",
        "\n",
        "print('number of train non - ',len(train_non)) \n",
        "print('number of test non - ',len(test_non)) \n",
        "print('number of valid non - ',len(valid_non)) \n"
      ],
      "execution_count": 9,
      "outputs": [
        {
          "output_type": "stream",
          "text": [
            "number of train gate -  3076\n",
            "number of test gate -  54\n",
            "number of valid gate -  716\n",
            "number of train non -  3704\n",
            "number of test non -  65\n",
            "number of valid non -  861\n"
          ],
          "name": "stdout"
        }
      ]
    },
    {
      "cell_type": "code",
      "metadata": {
        "id": "FSFW4adfczAu"
      },
      "source": [
        "for file in gate:\n",
        "    if file in train_gate:\n",
        "        src_dir = gate_dir+'/'+str(file)\n",
        "        dst_dir = \"/content/train/gate\"\n",
        "        shutil.move(src_dir,dst_dir)\n",
        "\n",
        "    elif file in valid_gate:\n",
        "        src_dir = gate_dir+'/'+str(file)\n",
        "        dst_dir = \"/content/validation/gate\"\n",
        "        shutil.move(src_dir,dst_dir)\n",
        "    elif file in test_gate:\n",
        "        src_dir = gate_dir+'/'+str(file)\n",
        "        dst_dir = \"/content/test/gate\"\n",
        "        shutil.move(src_dir,dst_dir)\n",
        "    else:\n",
        "        pass\n"
      ],
      "execution_count": 10,
      "outputs": []
    },
    {
      "cell_type": "code",
      "metadata": {
        "id": "lMRJL__vc9xy"
      },
      "source": [
        "for file in non:\n",
        "    if file in train_non:\n",
        "        src_dir = non_dir+'/'+str(file)\n",
        "        dst_dir = \"/content/train/non\"\n",
        "        shutil.move(src_dir,dst_dir)\n",
        "\n",
        "    elif file in valid_non:\n",
        "        src_dir = non_dir+'/'+str(file)\n",
        "        dst_dir = \"/content/validation/non\"\n",
        "        shutil.move(src_dir,dst_dir)\n",
        "    elif file in test_non:\n",
        "        src_dir = non_dir+'/'+str(file)\n",
        "        dst_dir = \"/content/test/non\"\n",
        "        shutil.move(src_dir,dst_dir)\n",
        "    else:\n",
        "        pass\n"
      ],
      "execution_count": 11,
      "outputs": []
    },
    {
      "cell_type": "code",
      "metadata": {
        "id": "emVPB_sVdBfQ",
        "outputId": "3f6fb2ef-46a7-4487-c6af-7a769da682bc",
        "colab": {
          "base_uri": "https://localhost:8080/",
          "height": 119
        }
      },
      "source": [
        "print('number of train gate - ',len(os.listdir(\"/content/train/gate\"))) \n",
        "print('number of train non  - ',len(os.listdir(\"/content/train/non\")))\n",
        "\n",
        "print('number of test gate - ',len(os.listdir(\"/content/test/gate\"))) \n",
        "print('number of test non - ',len(os.listdir(\"/content/test/non\")))\n",
        "\n",
        "print('number of valid gate  - ',len(os.listdir(\"/content/validation/gate\"))) \n",
        "print('number of valid non - ',len(os.listdir(\"/content/validation/non\"))) \n",
        "\n"
      ],
      "execution_count": 12,
      "outputs": [
        {
          "output_type": "stream",
          "text": [
            "number of train gate -  3076\n",
            "number of train non  -  3704\n",
            "number of test gate -  54\n",
            "number of test non -  65\n",
            "number of valid gate  -  716\n",
            "number of valid non -  861\n"
          ],
          "name": "stdout"
        }
      ]
    },
    {
      "cell_type": "markdown",
      "metadata": {
        "id": "rFaV09onzXTG"
      },
      "source": [
        "**CNN_Model**"
      ]
    },
    {
      "cell_type": "code",
      "metadata": {
        "id": "XUyHW1LodD36"
      },
      "source": [
        "import pandas as pd #making some of our usual imports inorder to solve the problem in hand \n",
        "import tensorflow as tf\n",
        "from tensorflow.keras.preprocessing import image\n",
        "\n",
        "from tensorflow.keras.models import Sequential #importing our deep learing libraries\n",
        "from tensorflow.keras.layers import Conv2D, MaxPooling2D, Flatten, Dense, Dropout, Activation\n",
        "from tensorflow.keras.preprocessing.image import ImageDataGenerator"
      ],
      "execution_count": 13,
      "outputs": []
    },
    {
      "cell_type": "code",
      "metadata": {
        "id": "P_3HdNDMdHrJ"
      },
      "source": [
        "data_generator = ImageDataGenerator(rescale = 1./250) #we are converting our RGB photo into array numbers for better computation and processing of our model\n"
      ],
      "execution_count": 14,
      "outputs": []
    },
    {
      "cell_type": "code",
      "metadata": {
        "id": "iLOMZcuRdLlA",
        "outputId": "bc7c5721-bb3b-4a8e-8344-046862239b1f",
        "colab": {
          "base_uri": "https://localhost:8080/",
          "height": 51
        }
      },
      "source": [
        "batch_size = 64 #accessing all our data both training and testing\n",
        "training_data = data_generator.flow_from_directory(directory = \"/content/train\",\n",
        "                                                  target_size = (240,320),\n",
        "                                                  batch_size = batch_size,\n",
        "                                                  class_mode  = 'binary')\n",
        "\n",
        "validation_data = data_generator.flow_from_directory(directory = \"/content/validation\",\n",
        "                                                  target_size = (240,320),\n",
        "                                                  batch_size = batch_size,\n",
        "                                                  class_mode  = 'binary')"
      ],
      "execution_count": 15,
      "outputs": [
        {
          "output_type": "stream",
          "text": [
            "Found 6780 images belonging to 2 classes.\n",
            "Found 1577 images belonging to 2 classes.\n"
          ],
          "name": "stdout"
        }
      ]
    },
    {
      "cell_type": "code",
      "metadata": {
        "id": "Evr9nXesdOKk"
      },
      "source": [
        "model = Sequential() #making our CNN\n",
        "model.add(Conv2D(filters = 8, kernel_size = (9, 9), activation = 'relu', input_shape = training_data.image_shape))\n",
        "model.add(MaxPooling2D(pool_size = (2, 2)))\n",
        "# model.add(Dropout(rate = 0.3))\n",
        "\n",
        "model.add(Conv2D(filters = 16, kernel_size = (3, 3), activation = 'relu'))\n",
        "model.add(MaxPooling2D(pool_size = (2, 2)))\n",
        "# model.add(Dropout(rate = 0.2))\n",
        "\n",
        "model.add(Conv2D(filters = 32, kernel_size = (3, 3), activation = 'relu'))\n",
        "model.add(MaxPooling2D(pool_size = (2, 2)))\n",
        "# model.add(Dropout(rate = 0.15))\n",
        "\n",
        "model.add(Conv2D(filters = 64, kernel_size = (3, 3), activation = 'relu'))\n",
        "model.add(MaxPooling2D(pool_size = (2, 2)))\n",
        "\n",
        "model.add(Flatten())\n",
        "# model.add(Dropout(rate = 0.15))\n",
        "model.add(Dense(units = 512, activation = 'relu'))\n",
        "model.add(Dense(units = 64, activation = 'relu'))\n",
        "# model.add(Dropout(rate = 0.1))\n",
        "\n",
        "model.add(Dense(units = len(set(training_data.classes)), activation = 'softmax'))\n",
        "model.compile(optimizer = 'adam', loss = 'sparse_categorical_crossentropy', metrics = ['accuracy'])"
      ],
      "execution_count": 16,
      "outputs": []
    },
    {
      "cell_type": "code",
      "metadata": {
        "id": "Wnoi6xDGTQUV",
        "outputId": "0460541d-7e71-4406-f6e8-46ebc50aa1ea",
        "colab": {
          "base_uri": "https://localhost:8080/",
          "height": 561
        }
      },
      "source": [
        "model.summary()"
      ],
      "execution_count": 17,
      "outputs": [
        {
          "output_type": "stream",
          "text": [
            "Model: \"sequential\"\n",
            "_________________________________________________________________\n",
            "Layer (type)                 Output Shape              Param #   \n",
            "=================================================================\n",
            "conv2d (Conv2D)              (None, 232, 312, 8)       1952      \n",
            "_________________________________________________________________\n",
            "max_pooling2d (MaxPooling2D) (None, 116, 156, 8)       0         \n",
            "_________________________________________________________________\n",
            "conv2d_1 (Conv2D)            (None, 114, 154, 16)      1168      \n",
            "_________________________________________________________________\n",
            "max_pooling2d_1 (MaxPooling2 (None, 57, 77, 16)        0         \n",
            "_________________________________________________________________\n",
            "conv2d_2 (Conv2D)            (None, 55, 75, 32)        4640      \n",
            "_________________________________________________________________\n",
            "max_pooling2d_2 (MaxPooling2 (None, 27, 37, 32)        0         \n",
            "_________________________________________________________________\n",
            "conv2d_3 (Conv2D)            (None, 25, 35, 64)        18496     \n",
            "_________________________________________________________________\n",
            "max_pooling2d_3 (MaxPooling2 (None, 12, 17, 64)        0         \n",
            "_________________________________________________________________\n",
            "flatten (Flatten)            (None, 13056)             0         \n",
            "_________________________________________________________________\n",
            "dense (Dense)                (None, 512)               6685184   \n",
            "_________________________________________________________________\n",
            "dense_1 (Dense)              (None, 64)                32832     \n",
            "_________________________________________________________________\n",
            "dense_2 (Dense)              (None, 2)                 130       \n",
            "=================================================================\n",
            "Total params: 6,744,402\n",
            "Trainable params: 6,744,402\n",
            "Non-trainable params: 0\n",
            "_________________________________________________________________\n"
          ],
          "name": "stdout"
        }
      ]
    },
    {
      "cell_type": "code",
      "metadata": {
        "id": "SvFAib_WdRw9",
        "outputId": "e5a6e995-f852-472f-bba9-6e00f0b81b75",
        "colab": {
          "base_uri": "https://localhost:8080/",
          "height": 190
        }
      },
      "source": [
        "fitted_model = model.fit_generator(training_data,\n",
        "                        steps_per_epoch = 105,\n",
        "                        epochs =3,\n",
        "                        validation_data = validation_data,\n",
        "                        validation_steps = 24)"
      ],
      "execution_count": 18,
      "outputs": [
        {
          "output_type": "stream",
          "text": [
            "WARNING:tensorflow:From <ipython-input-18-8e247fda2d30>:5: Model.fit_generator (from tensorflow.python.keras.engine.training) is deprecated and will be removed in a future version.\n",
            "Instructions for updating:\n",
            "Please use Model.fit, which supports generators.\n",
            "Epoch 1/3\n",
            "105/105 [==============================] - 234s 2s/step - loss: 0.2342 - accuracy: 0.9010 - val_loss: 0.0445 - val_accuracy: 0.9889\n",
            "Epoch 2/3\n",
            "105/105 [==============================] - 230s 2s/step - loss: 0.0385 - accuracy: 0.9865 - val_loss: 0.0066 - val_accuracy: 0.9974\n",
            "Epoch 3/3\n",
            "105/105 [==============================] - 233s 2s/step - loss: 0.0317 - accuracy: 0.9887 - val_loss: 0.0025 - val_accuracy: 0.9993\n"
          ],
          "name": "stdout"
        }
      ]
    },
    {
      "cell_type": "code",
      "metadata": {
        "id": "FgEDsG2UdXzc"
      },
      "source": [
        "def testing_image(image_directory): #testing out our model\n",
        "    test_image = image.load_img(image_directory, target_size = (240, 320))\n",
        "    test_image = image.img_to_array(test_image)\n",
        "    test_image = np.expand_dims(test_image, axis = 0)\n",
        "    result = model.predict(x = test_image)\n",
        "    if result[0][0]  == 1:\n",
        "        prediction = 'gate'\n",
        "        # print(prediction)\n",
        "        return 1\n",
        "    else:\n",
        "        prediction = 'none gate'\n",
        "        # print(prediction)\n",
        "        return 0\n",
        "    "
      ],
      "execution_count": 19,
      "outputs": []
    },
    {
      "cell_type": "code",
      "metadata": {
        "id": "FilrxmaVdjSH"
      },
      "source": [
        "test_dir = \"/content/test\" "
      ],
      "execution_count": 20,
      "outputs": []
    },
    {
      "cell_type": "code",
      "metadata": {
        "id": "Da5LuedpdoFi",
        "outputId": "705ce661-57e9-4e1d-e847-8f51f15a0c6b",
        "colab": {
          "base_uri": "https://localhost:8080/",
          "height": 34
        }
      },
      "source": [
        "print('number of test non - ',len(os.listdir(\"/content/test/gate\")))\n",
        "test_gate=os.listdir(\"/content/test/gate\")\n",
        "test_non=os.listdir(\"/content/test/non\")"
      ],
      "execution_count": 21,
      "outputs": [
        {
          "output_type": "stream",
          "text": [
            "number of test non -  54\n"
          ],
          "name": "stdout"
        }
      ]
    },
    {
      "cell_type": "code",
      "metadata": {
        "id": "9q6_fAksdoK_",
        "outputId": "d061d2d2-afa6-4204-f408-394fc87e9225",
        "colab": {
          "base_uri": "https://localhost:8080/",
          "height": 34
        }
      },
      "source": [
        "TP=0\n",
        "FP=0\n",
        "for file in test_gate:\n",
        "    x=testing_image(test_dir + '/gate/' + str(file))\n",
        "    if x==1 :\n",
        "        TP+=1\n",
        "    else:\n",
        "        FP+=1\n",
        "\n",
        "print(TP,FP)\n",
        "\n",
        "    "
      ],
      "execution_count": 22,
      "outputs": [
        {
          "output_type": "stream",
          "text": [
            "54 0\n"
          ],
          "name": "stdout"
        }
      ]
    },
    {
      "cell_type": "code",
      "metadata": {
        "id": "kQwtYHxfd0JM",
        "outputId": "1a250b0b-8d2d-4674-d989-805e7b6b6e26",
        "colab": {
          "base_uri": "https://localhost:8080/",
          "height": 34
        }
      },
      "source": [
        "print('number of test non - ',len(os.listdir(\"/content/test/non\")))"
      ],
      "execution_count": 23,
      "outputs": [
        {
          "output_type": "stream",
          "text": [
            "number of test non -  65\n"
          ],
          "name": "stdout"
        }
      ]
    },
    {
      "cell_type": "code",
      "metadata": {
        "id": "ou1xpkind02s",
        "outputId": "a589b59d-60a5-47b6-9e6c-71aae18710f9",
        "colab": {
          "base_uri": "https://localhost:8080/",
          "height": 34
        }
      },
      "source": [
        "\n",
        "TN=0\n",
        "FN=0\n",
        "for file in test_non:\n",
        "    x=testing_image(test_dir + '/non/' + str(file))\n",
        "    if x==0 :\n",
        "        TN+=1\n",
        "    else:\n",
        "        FN+=1\n",
        "\n",
        "print(TN,FN)\n"
      ],
      "execution_count": 24,
      "outputs": [
        {
          "output_type": "stream",
          "text": [
            "65 0\n"
          ],
          "name": "stdout"
        }
      ]
    },
    {
      "cell_type": "code",
      "metadata": {
        "id": "2PgZaX8Yd5yZ",
        "outputId": "5366b0f0-2582-433e-85c4-beb44d1eef57",
        "colab": {
          "base_uri": "https://localhost:8080/",
          "height": 34
        }
      },
      "source": [
        "test_Accuracy=(TP+TN)/(TP+TN+FP+FN)\n",
        "print(test_Accuracy)"
      ],
      "execution_count": 25,
      "outputs": [
        {
          "output_type": "stream",
          "text": [
            "1.0\n"
          ],
          "name": "stdout"
        }
      ]
    },
    {
      "cell_type": "code",
      "metadata": {
        "id": "OehA_wIoUVGa"
      },
      "source": [
        "cf_matrix = ([[TN,  FP],\n",
        "       [ FN, TP]])"
      ],
      "execution_count": 34,
      "outputs": []
    },
    {
      "cell_type": "code",
      "metadata": {
        "id": "rzoCxNFl1OSI",
        "outputId": "ece97eff-41bf-4d8e-f8f4-08eea39265b8",
        "colab": {
          "base_uri": "https://localhost:8080/",
          "height": 282
        }
      },
      "source": [
        "import seaborn as sns\n",
        "\n",
        "sns.heatmap(cf_matrix/np.sum(cf_matrix), annot=True, \n",
        "            fmt='.2%')\n"
      ],
      "execution_count": 35,
      "outputs": [
        {
          "output_type": "execute_result",
          "data": {
            "text/plain": [
              "<matplotlib.axes._subplots.AxesSubplot at 0x7f0f9405d0b8>"
            ]
          },
          "metadata": {
            "tags": []
          },
          "execution_count": 35
        },
        {
          "output_type": "display_data",
          "data": {
            "image/png": "[encoded data removed]",
            "text/plain": [
              "<Figure size 432x288 with 2 Axes>"
            ]
          },
          "metadata": {
            "tags": [],
            "needs_background": "light"
          }
        }
      ]
    },
    {
      "cell_type": "code",
      "metadata": {
        "id": "aEHeV0xp5FnX",
        "outputId": "3e5c7d04-1feb-4279-a571-37781e58340e",
        "colab": {
          "base_uri": "https://localhost:8080/",
          "height": 71
        }
      },
      "source": [
        "!pip install PyYAML\n",
        "# serialize model to YAML\n",
        "model_yaml = model.to_yaml()\n",
        "with open(\"model.yaml\", \"w\") as yaml_file:\n",
        "    yaml_file.write(model_yaml)\n",
        "# serialize weights to HDF5\n",
        "model.save_weights(\"model.h5\")\n",
        "print(\"Saved model to disk\")"
      ],
      "execution_count": 40,
      "outputs": [
        {
          "output_type": "stream",
          "text": [
            "Requirement already satisfied: PyYAML in /usr/local/lib/python3.6/dist-packages (3.13)\n",
            "Saved model to disk\n"
          ],
          "name": "stdout"
        }
      ]
    },
    {
      "cell_type": "code",
      "metadata": {
        "id": "O13CbFn_PuJy"
      },
      "source": [
        "# load YAML and create model\n",
        "yaml_file = open('model.yaml', 'r')\n",
        "loaded_model_yaml = yaml_file.read()\n",
        "yaml_file.close()\n"
      ],
      "execution_count": 42,
      "outputs": []
    },
    {
      "cell_type": "code",
      "metadata": {
        "id": "Snw845SnQqoA",
        "outputId": "d723ab22-b64a-45fa-da3b-7937fc91021f",
        "colab": {
          "base_uri": "https://localhost:8080/",
          "height": 34
        }
      },
      "source": [
        "from keras.models import model_from_yaml\n",
        "loaded_model = model_from_yaml(loaded_model_yaml)\n",
        "# load weights into new model\n",
        "loaded_model.load_weights(\"model.h5\")\n",
        "print(\"Loaded model from disk\")\n"
      ],
      "execution_count": 44,
      "outputs": [
        {
          "output_type": "stream",
          "text": [
            "Loaded model from disk\n"
          ],
          "name": "stdout"
        }
      ]
    },
    {
      "cell_type": "code",
      "metadata": {
        "id": "yRuPD2t-Q_Q5"
      },
      "source": [
        "loaded_model.compile(optimizer = 'adam', loss = 'sparse_categorical_crossentropy', metrics = ['accuracy'])"
      ],
      "execution_count": 45,
      "outputs": []
    },
    {
      "cell_type": "code",
      "metadata": {
        "id": "tDqkEMrHRhlZ"
      },
      "source": [
        "def testing_image_afterLoading(image_directory): #testing out our model\n",
        "    test_image = image.load_img(image_directory, target_size = (240, 320))\n",
        "    test_image = image.img_to_array(test_image)\n",
        "    test_image = np.expand_dims(test_image, axis = 0)\n",
        "    result = loaded_model.predict(x = test_image)\n",
        "    if result[0][0]  == 1:\n",
        "        prediction = 'gate'\n",
        "        # print(prediction)\n",
        "        return 1\n",
        "    else:\n",
        "        prediction = 'none gate'\n",
        "        # print(prediction)\n",
        "        return 0\n",
        "    "
      ],
      "execution_count": 46,
      "outputs": []
    },
    {
      "cell_type": "code",
      "metadata": {
        "id": "zl_oXypwR1-J",
        "outputId": "b080e59b-605f-45ef-e8e0-e9fa7a53c1a3",
        "colab": {
          "base_uri": "https://localhost:8080/",
          "height": 34
        }
      },
      "source": [
        "print(testing_image_afterLoading(\"/content/frame155.jpg\"))"
      ],
      "execution_count": 47,
      "outputs": [
        {
          "output_type": "stream",
          "text": [
            "1\n"
          ],
          "name": "stdout"
        }
      ]
    },
    {
      "cell_type": "code",
      "metadata": {
        "id": "0FlFDFH-R73k",
        "outputId": "30a61857-3766-455e-d2db-10e0e87166bc",
        "colab": {
          "base_uri": "https://localhost:8080/",
          "height": 34
        }
      },
      "source": [
        "print(testing_image_afterLoading(\"/content/download (2).jpg\"))"
      ],
      "execution_count": 57,
      "outputs": [
        {
          "output_type": "stream",
          "text": [
            "0\n"
          ],
          "name": "stdout"
        }
      ]
    },
    {
      "cell_type": "code",
      "metadata": {
        "id": "CWIlx_lmSEbp",
        "outputId": "ff61a3dd-d279-4e15-ed81-83933cfbf5d0",
        "colab": {
          "base_uri": "https://localhost:8080/",
          "height": 34
        }
      },
      "source": [
        "print(testing_image_afterLoading(\"/content/download.jpg\"))"
      ],
      "execution_count": 49,
      "outputs": [
        {
          "output_type": "stream",
          "text": [
            "0\n"
          ],
          "name": "stdout"
        }
      ]
    },
    {
      "cell_type": "code",
      "metadata": {
        "id": "tFt1JR8RSUcG",
        "outputId": "ea6bcfc3-d3a7-409c-bf6f-db99d07eb595",
        "colab": {
          "base_uri": "https://localhost:8080/",
          "height": 34
        }
      },
      "source": [
        "print(testing_image_afterLoading(\"/content/car.jpg\"))"
      ],
      "execution_count": 56,
      "outputs": [
        {
          "output_type": "stream",
          "text": [
            "0\n"
          ],
          "name": "stdout"
        }
      ]
    },
    {
      "cell_type": "code",
      "metadata": {
        "id": "prWx_MrLScyH",
        "outputId": "6987e3e0-c4a4-4ae4-cd4c-59868e5c3bce",
        "colab": {
          "base_uri": "https://localhost:8080/",
          "height": 34
        }
      },
      "source": [
        "print(testing_image_afterLoading(\"/content/frame207.jpg\"))"
      ],
      "execution_count": 58,
      "outputs": [
        {
          "output_type": "stream",
          "text": [
            "1\n"
          ],
          "name": "stdout"
        }
      ]
    },
    {
      "cell_type": "code",
      "metadata": {
        "id": "qDiI_BcPSktf"
      },
      "source": [
        ""
      ],
      "execution_count": null,
      "outputs": []
    }
  ]
}